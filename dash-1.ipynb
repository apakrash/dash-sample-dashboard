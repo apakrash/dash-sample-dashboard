{
 "cells": [
  {
   "cell_type": "code",
   "execution_count": 2,
   "metadata": {},
   "outputs": [
    {
     "name": "stdout",
     "output_type": "stream",
     "text": [
      "Collecting dash\n",
      "Collecting dash-renderer\n",
      "Collecting dash-html-components\n",
      "Collecting dash-core-components\n",
      "Requirement already satisfied: plotly in /home/qwerty/anaconda3/lib/python3.6/site-packages\n",
      "Requirement already satisfied: Flask>=0.12 in /home/qwerty/anaconda3/lib/python3.6/site-packages (from dash)\n",
      "Collecting flask-compress (from dash)\n",
      "Requirement already satisfied: decorator>=4.0.6 in /home/qwerty/anaconda3/lib/python3.6/site-packages (from plotly)\n",
      "Requirement already satisfied: nbformat>=4.2 in /home/qwerty/anaconda3/lib/python3.6/site-packages (from plotly)\n",
      "Requirement already satisfied: pytz in /home/qwerty/anaconda3/lib/python3.6/site-packages (from plotly)\n",
      "Requirement already satisfied: requests in /home/qwerty/anaconda3/lib/python3.6/site-packages (from plotly)\n",
      "Requirement already satisfied: six in /home/qwerty/anaconda3/lib/python3.6/site-packages (from plotly)\n",
      "Requirement already satisfied: Werkzeug>=0.7 in /home/qwerty/anaconda3/lib/python3.6/site-packages (from Flask>=0.12->dash)\n",
      "Requirement already satisfied: Jinja2>=2.4 in /home/qwerty/anaconda3/lib/python3.6/site-packages (from Flask>=0.12->dash)\n",
      "Requirement already satisfied: itsdangerous>=0.21 in /home/qwerty/anaconda3/lib/python3.6/site-packages (from Flask>=0.12->dash)\n",
      "Requirement already satisfied: click>=2.0 in /home/qwerty/anaconda3/lib/python3.6/site-packages (from Flask>=0.12->dash)\n",
      "Requirement already satisfied: ipython_genutils in /home/qwerty/anaconda3/lib/python3.6/site-packages (from nbformat>=4.2->plotly)\n",
      "Requirement already satisfied: traitlets>=4.1 in /home/qwerty/anaconda3/lib/python3.6/site-packages (from nbformat>=4.2->plotly)\n",
      "Requirement already satisfied: jsonschema!=2.5.0,>=2.4 in /home/qwerty/anaconda3/lib/python3.6/site-packages (from nbformat>=4.2->plotly)\n",
      "Requirement already satisfied: jupyter_core in /home/qwerty/anaconda3/lib/python3.6/site-packages (from nbformat>=4.2->plotly)\n",
      "Requirement already satisfied: chardet<3.1.0,>=3.0.2 in /home/qwerty/anaconda3/lib/python3.6/site-packages (from requests->plotly)\n",
      "Requirement already satisfied: idna<2.7,>=2.5 in /home/qwerty/anaconda3/lib/python3.6/site-packages (from requests->plotly)\n",
      "Requirement already satisfied: urllib3<1.23,>=1.21.1 in /home/qwerty/anaconda3/lib/python3.6/site-packages (from requests->plotly)\n",
      "Requirement already satisfied: certifi>=2017.4.17 in /home/qwerty/anaconda3/lib/python3.6/site-packages (from requests->plotly)\n",
      "Requirement already satisfied: MarkupSafe>=0.23 in /home/qwerty/anaconda3/lib/python3.6/site-packages (from Jinja2>=2.4->Flask>=0.12->dash)\n",
      "Installing collected packages: flask-compress, dash, dash-renderer, dash-html-components, dash-core-components\n",
      "Successfully installed dash-0.21.0 dash-core-components-0.22.1 dash-html-components-0.10.0 dash-renderer-0.12.1 flask-compress-1.4.0\n",
      "\u001b[33mYou are using pip version 9.0.1, however version 10.0.0 is available.\n",
      "You should consider upgrading via the 'pip install --upgrade pip' command.\u001b[0m\n"
     ]
    }
   ],
   "source": [
    "!pip install dash dash-renderer dash-html-components dash-core-components plotly"
   ]
  },
  {
   "cell_type": "code",
   "execution_count": 1,
   "metadata": {},
   "outputs": [
    {
     "name": "stdout",
     "output_type": "stream",
     "text": [
      "The matrix has you\n"
     ]
    }
   ],
   "source": [
    "print('The matrix has you')"
   ]
  },
  {
   "cell_type": "code",
   "execution_count": 2,
   "metadata": {
    "collapsed": true
   },
   "outputs": [],
   "source": [
    "import dash\n",
    "import dash_core_components as dcc\n",
    "import dash_html_components as html"
   ]
  },
  {
   "cell_type": "code",
   "execution_count": 3,
   "metadata": {
    "collapsed": true
   },
   "outputs": [],
   "source": [
    "app = dash.Dash()"
   ]
  },
  {
   "cell_type": "code",
   "execution_count": 5,
   "metadata": {},
   "outputs": [
    {
     "name": "stderr",
     "output_type": "stream",
     "text": [
      " * Running on http://127.0.0.1:8000/ (Press CTRL+C to quit)\n",
      " * Restarting with stat\n"
     ]
    },
    {
     "ename": "SystemExit",
     "evalue": "1",
     "output_type": "error",
     "traceback": [
      "An exception has occurred, use %tb to see the full traceback.\n",
      "\u001b[0;31mSystemExit\u001b[0m\u001b[0;31m:\u001b[0m 1\n"
     ]
    },
    {
     "name": "stderr",
     "output_type": "stream",
     "text": [
      "/home/qwerty/anaconda3/lib/python3.6/site-packages/IPython/core/interactiveshell.py:2870: UserWarning:\n",
      "\n",
      "To exit: use 'exit', 'quit', or Ctrl-D.\n",
      "\n"
     ]
    }
   ],
   "source": [
    "app.layout = html.Div('Dash')\n",
    "if __name__ == '__main__':\n",
    "    app.run_server(debug=True,port=8000, host='127.0.0.1')\n"
   ]
  },
  {
   "cell_type": "code",
   "execution_count": 4,
   "metadata": {},
   "outputs": [
    {
     "name": "stdout",
     "output_type": "stream",
     "text": [
      "/bin/sh: 1: %tb: not found\r\n"
     ]
    }
   ],
   "source": []
  },
  {
   "cell_type": "code",
   "execution_count": null,
   "metadata": {
    "collapsed": true
   },
   "outputs": [],
   "source": []
  }
 ],
 "metadata": {
  "kernelspec": {
   "display_name": "Python 3",
   "language": "python",
   "name": "python3"
  },
  "language_info": {
   "codemirror_mode": {
    "name": "ipython",
    "version": 3
   },
   "file_extension": ".py",
   "mimetype": "text/x-python",
   "name": "python",
   "nbconvert_exporter": "python",
   "pygments_lexer": "ipython3",
   "version": "3.6.3"
  }
 },
 "nbformat": 4,
 "nbformat_minor": 2
}
